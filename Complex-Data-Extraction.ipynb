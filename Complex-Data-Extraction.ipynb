{
 "cells": [
  {
   "cell_type": "markdown",
   "metadata": {},
   "source": [
    "# Introduction\n",
    "This notebook aims at evaluating the (DI+LLM) technique for entity extraction from Tax Documents. We use schema2doc mapping based on Document Intelligence (DI) output of the processed document. DI provides a JSON or Markdown output format, including the styles information. Using LLM prompting, we ask the LLM (GPT4o) to process the DI output and provide a JSON format with the defined schema. "
   ]
  },
  {
   "cell_type": "markdown",
   "metadata": {},
   "source": [
    "### Imports"
   ]
  },
  {
   "cell_type": "code",
   "execution_count": 2,
   "metadata": {},
   "outputs": [],
   "source": [
    "## IMPORTING PACKAGES\n",
    "import os \n",
    "from dotenv import load_dotenv\n",
    "import warnings  \n",
    "from pprint import pprint\n",
    "\n",
    "from tqdm import tqdm\n",
    "import pandas as pd\n",
    "import regex as re  \n",
    "import json\n",
    "import time\n",
    "\n",
    "from azure.core.credentials import AzureKeyCredential  \n",
    "from azure.ai.documentintelligence import DocumentIntelligenceClient \n",
    "from azure.ai.documentintelligence.models import  DocumentAnalysisFeature  \n",
    "\n",
    "from openai import AzureOpenAI\n",
    "\n",
    "from langchain.docstore.document import Document  \n",
    "from langchain_openai import AzureOpenAIEmbeddings  \n",
    "from langchain.vectorstores.azuresearch import AzureSearch  \n",
    "from langchain.text_splitter import MarkdownTextSplitter\n",
    "\n",
    "import tiktoken\n",
    "\n",
    "## Suppress warnings  \n",
    "warnings.filterwarnings(\"ignore\")  \n",
    "\n",
    "%reload_ext autoreload\n",
    "%autoreload 2"
   ]
  },
  {
   "cell_type": "markdown",
   "metadata": {},
   "source": [
    "### Settings\n",
    "Provide your API keys in the .env file"
   ]
  },
  {
   "cell_type": "code",
   "execution_count": 3,
   "metadata": {},
   "outputs": [],
   "source": [
    "## CREDENTIALS\n",
    "load_dotenv()\n",
    "\n",
    "AZURE_OPENAI_ENDPOINT = os.getenv(\"AZURE_OPENAI_ENDPOINT\")\n",
    "AZURE_OPENAI_API_KEY = os.getenv(\"AZURE_OPENAI_API_KEY\")\n",
    "DEPLOYMENT_NAME = os.getenv(\"DEPLOYMENT_NAME\")\n",
    "\n",
    "DOC_INTELLIGENCE_ENDPOINT = os.getenv(\"DOC_INTELLIGENCE_ENDPOINT\")\n",
    "DOC_INTELLIGENCE_KEY = os.getenv(\"DOC_INTELLIGENCE_KEY\")\n",
    "\n",
    "VECTOR_SEARCH_ENDPOINT = os.getenv(\"VECTOR_SEARCH_ENDPOINT\")\n",
    "VECTOR_SEARCH_KEY = os.getenv(\"VECTOR_SEARCH_KEY\")"
   ]
  },
  {
   "cell_type": "markdown",
   "metadata": {},
   "source": [
    "### RAG Components"
   ]
  },
  {
   "cell_type": "code",
   "execution_count": 4,
   "metadata": {},
   "outputs": [
    {
     "ename": "ServiceRequestError",
     "evalue": "No connection adapters were found for 'YOUR_RESOURCE_ENDPOINT_HERE/documentintelligence/documentModels/prebuilt-layout:analyze?api-version=2024-02-29-preview&features=styleFont&outputContentFormat=markdown'",
     "output_type": "error",
     "traceback": [
      "\u001b[1;31m---------------------------------------------------------------------------\u001b[0m",
      "\u001b[1;31mServiceRequestError\u001b[0m                       Traceback (most recent call last)",
      "Cell \u001b[1;32mIn[4], line 23\u001b[0m\n\u001b[0;32m     20\u001b[0m     \u001b[38;5;28;01mreturn\u001b[39;00m result\n\u001b[0;32m     22\u001b[0m document_name \u001b[38;5;241m=\u001b[39m \u001b[38;5;124m\"\u001b[39m\u001b[38;5;124m2020_Apr_George.pdf\u001b[39m\u001b[38;5;124m\"\u001b[39m\n\u001b[1;32m---> 23\u001b[0m results \u001b[38;5;241m=\u001b[39m document_layout_analysis(os\u001b[38;5;241m.\u001b[39mpath\u001b[38;5;241m.\u001b[39mjoin(\u001b[38;5;124m\"\u001b[39m\u001b[38;5;124mdata\u001b[39m\u001b[38;5;124m\\\u001b[39m\u001b[38;5;124mdocuments\u001b[39m\u001b[38;5;124m\"\u001b[39m, document_name))\n\u001b[0;32m     24\u001b[0m \u001b[38;5;28mprint\u001b[39m(results[\u001b[38;5;124m'\u001b[39m\u001b[38;5;124mcontent\u001b[39m\u001b[38;5;124m'\u001b[39m])\n",
      "Cell \u001b[1;32mIn[4], line 11\u001b[0m, in \u001b[0;36mdocument_layout_analysis\u001b[1;34m(document_path, di_endpoint, di_key)\u001b[0m\n\u001b[0;32m      8\u001b[0m     features\u001b[38;5;241m=\u001b[39m[DocumentAnalysisFeature\u001b[38;5;241m.\u001b[39mSTYLE_FONT]\n\u001b[0;32m     10\u001b[0m \u001b[38;5;28;01mwith\u001b[39;00m \u001b[38;5;28mopen\u001b[39m(document_path, \u001b[38;5;124m\"\u001b[39m\u001b[38;5;124mrb\u001b[39m\u001b[38;5;124m\"\u001b[39m) \u001b[38;5;28;01mas\u001b[39;00m f:  \n\u001b[1;32m---> 11\u001b[0m     poller \u001b[38;5;241m=\u001b[39m doc_intelligence_client\u001b[38;5;241m.\u001b[39mbegin_analyze_document(  \n\u001b[0;32m     12\u001b[0m         \u001b[38;5;124m\"\u001b[39m\u001b[38;5;124mprebuilt-layout\u001b[39m\u001b[38;5;124m\"\u001b[39m,  \n\u001b[0;32m     13\u001b[0m         f,\n\u001b[0;32m     14\u001b[0m         content_type\u001b[38;5;241m=\u001b[39m\u001b[38;5;124m\"\u001b[39m\u001b[38;5;124mapplication/octet-stream\u001b[39m\u001b[38;5;124m\"\u001b[39m,  \n\u001b[0;32m     15\u001b[0m         output_content_format\u001b[38;5;241m=\u001b[39m\u001b[38;5;124m\"\u001b[39m\u001b[38;5;124mmarkdown\u001b[39m\u001b[38;5;124m\"\u001b[39m,\n\u001b[0;32m     16\u001b[0m         features\u001b[38;5;241m=\u001b[39mfeatures\n\u001b[0;32m     17\u001b[0m         \n\u001b[0;32m     18\u001b[0m     )\n\u001b[0;32m     19\u001b[0m result \u001b[38;5;241m=\u001b[39m poller\u001b[38;5;241m.\u001b[39mresult()  \n\u001b[0;32m     20\u001b[0m \u001b[38;5;28;01mreturn\u001b[39;00m result\n",
      "File \u001b[1;32mc:\\Users\\hgamaleldin\\AppData\\Local\\anaconda3\\Lib\\site-packages\\azure\\core\\tracing\\decorator.py:78\u001b[0m, in \u001b[0;36mdistributed_trace.<locals>.decorator.<locals>.wrapper_use_tracer\u001b[1;34m(*args, **kwargs)\u001b[0m\n\u001b[0;32m     76\u001b[0m span_impl_type \u001b[38;5;241m=\u001b[39m settings\u001b[38;5;241m.\u001b[39mtracing_implementation()\n\u001b[0;32m     77\u001b[0m \u001b[38;5;28;01mif\u001b[39;00m span_impl_type \u001b[38;5;129;01mis\u001b[39;00m \u001b[38;5;28;01mNone\u001b[39;00m:\n\u001b[1;32m---> 78\u001b[0m     \u001b[38;5;28;01mreturn\u001b[39;00m func(\u001b[38;5;241m*\u001b[39margs, \u001b[38;5;241m*\u001b[39m\u001b[38;5;241m*\u001b[39mkwargs)\n\u001b[0;32m     80\u001b[0m \u001b[38;5;66;03m# Merge span is parameter is set, but only if no explicit parent are passed\u001b[39;00m\n\u001b[0;32m     81\u001b[0m \u001b[38;5;28;01mif\u001b[39;00m merge_span \u001b[38;5;129;01mand\u001b[39;00m \u001b[38;5;129;01mnot\u001b[39;00m passed_in_parent:\n",
      "File \u001b[1;32mc:\\Users\\hgamaleldin\\AppData\\Local\\anaconda3\\Lib\\site-packages\\azure\\ai\\documentintelligence\\_operations\\_operations.py:3627\u001b[0m, in \u001b[0;36mDocumentIntelligenceClientOperationsMixin.begin_analyze_document\u001b[1;34m(self, model_id, analyze_request, pages, locale, string_index_type, features, query_fields, output_content_format, **kwargs)\u001b[0m\n\u001b[0;32m   3625\u001b[0m cont_token: Optional[\u001b[38;5;28mstr\u001b[39m] \u001b[38;5;241m=\u001b[39m kwargs\u001b[38;5;241m.\u001b[39mpop(\u001b[38;5;124m\"\u001b[39m\u001b[38;5;124mcontinuation_token\u001b[39m\u001b[38;5;124m\"\u001b[39m, \u001b[38;5;28;01mNone\u001b[39;00m)\n\u001b[0;32m   3626\u001b[0m \u001b[38;5;28;01mif\u001b[39;00m cont_token \u001b[38;5;129;01mis\u001b[39;00m \u001b[38;5;28;01mNone\u001b[39;00m:\n\u001b[1;32m-> 3627\u001b[0m     raw_result \u001b[38;5;241m=\u001b[39m \u001b[38;5;28mself\u001b[39m\u001b[38;5;241m.\u001b[39m_analyze_document_initial(  \u001b[38;5;66;03m# type: ignore\u001b[39;00m\n\u001b[0;32m   3628\u001b[0m         model_id\u001b[38;5;241m=\u001b[39mmodel_id,\n\u001b[0;32m   3629\u001b[0m         analyze_request\u001b[38;5;241m=\u001b[39manalyze_request,\n\u001b[0;32m   3630\u001b[0m         pages\u001b[38;5;241m=\u001b[39mpages,\n\u001b[0;32m   3631\u001b[0m         locale\u001b[38;5;241m=\u001b[39mlocale,\n\u001b[0;32m   3632\u001b[0m         string_index_type\u001b[38;5;241m=\u001b[39mstring_index_type,\n\u001b[0;32m   3633\u001b[0m         features\u001b[38;5;241m=\u001b[39mfeatures,\n\u001b[0;32m   3634\u001b[0m         query_fields\u001b[38;5;241m=\u001b[39mquery_fields,\n\u001b[0;32m   3635\u001b[0m         output_content_format\u001b[38;5;241m=\u001b[39moutput_content_format,\n\u001b[0;32m   3636\u001b[0m         content_type\u001b[38;5;241m=\u001b[39mcontent_type,\n\u001b[0;32m   3637\u001b[0m         \u001b[38;5;28mcls\u001b[39m\u001b[38;5;241m=\u001b[39m\u001b[38;5;28;01mlambda\u001b[39;00m x, y, z: x,\n\u001b[0;32m   3638\u001b[0m         headers\u001b[38;5;241m=\u001b[39m_headers,\n\u001b[0;32m   3639\u001b[0m         params\u001b[38;5;241m=\u001b[39m_params,\n\u001b[0;32m   3640\u001b[0m         \u001b[38;5;241m*\u001b[39m\u001b[38;5;241m*\u001b[39mkwargs,\n\u001b[0;32m   3641\u001b[0m     )\n\u001b[0;32m   3642\u001b[0m kwargs\u001b[38;5;241m.\u001b[39mpop(\u001b[38;5;124m\"\u001b[39m\u001b[38;5;124merror_map\u001b[39m\u001b[38;5;124m\"\u001b[39m, \u001b[38;5;28;01mNone\u001b[39;00m)\n\u001b[0;32m   3644\u001b[0m \u001b[38;5;28;01mdef\u001b[39;00m \u001b[38;5;21mget_long_running_output\u001b[39m(pipeline_response):\n",
      "File \u001b[1;32mc:\\Users\\hgamaleldin\\AppData\\Local\\anaconda3\\Lib\\site-packages\\azure\\ai\\documentintelligence\\_operations\\_operations.py:507\u001b[0m, in \u001b[0;36mDocumentIntelligenceClientOperationsMixin._analyze_document_initial\u001b[1;34m(self, model_id, analyze_request, pages, locale, string_index_type, features, query_fields, output_content_format, **kwargs)\u001b[0m\n\u001b[0;32m    504\u001b[0m _request\u001b[38;5;241m.\u001b[39murl \u001b[38;5;241m=\u001b[39m \u001b[38;5;28mself\u001b[39m\u001b[38;5;241m.\u001b[39m_client\u001b[38;5;241m.\u001b[39mformat_url(_request\u001b[38;5;241m.\u001b[39murl, \u001b[38;5;241m*\u001b[39m\u001b[38;5;241m*\u001b[39mpath_format_arguments)\n\u001b[0;32m    506\u001b[0m _stream \u001b[38;5;241m=\u001b[39m \u001b[38;5;28;01mFalse\u001b[39;00m\n\u001b[1;32m--> 507\u001b[0m pipeline_response: PipelineResponse \u001b[38;5;241m=\u001b[39m \u001b[38;5;28mself\u001b[39m\u001b[38;5;241m.\u001b[39m_client\u001b[38;5;241m.\u001b[39m_pipeline\u001b[38;5;241m.\u001b[39mrun(  \u001b[38;5;66;03m# pylint: disable=protected-access\u001b[39;00m\n\u001b[0;32m    508\u001b[0m     _request, stream\u001b[38;5;241m=\u001b[39m_stream, \u001b[38;5;241m*\u001b[39m\u001b[38;5;241m*\u001b[39mkwargs\n\u001b[0;32m    509\u001b[0m )\n\u001b[0;32m    511\u001b[0m response \u001b[38;5;241m=\u001b[39m pipeline_response\u001b[38;5;241m.\u001b[39mhttp_response\n\u001b[0;32m    513\u001b[0m \u001b[38;5;28;01mif\u001b[39;00m response\u001b[38;5;241m.\u001b[39mstatus_code \u001b[38;5;129;01mnot\u001b[39;00m \u001b[38;5;129;01min\u001b[39;00m [\u001b[38;5;241m202\u001b[39m]:\n",
      "File \u001b[1;32mc:\\Users\\hgamaleldin\\AppData\\Local\\anaconda3\\Lib\\site-packages\\azure\\core\\pipeline\\_base.py:230\u001b[0m, in \u001b[0;36mPipeline.run\u001b[1;34m(self, request, **kwargs)\u001b[0m\n\u001b[0;32m    228\u001b[0m pipeline_request: PipelineRequest[HTTPRequestType] \u001b[38;5;241m=\u001b[39m PipelineRequest(request, context)\n\u001b[0;32m    229\u001b[0m first_node \u001b[38;5;241m=\u001b[39m \u001b[38;5;28mself\u001b[39m\u001b[38;5;241m.\u001b[39m_impl_policies[\u001b[38;5;241m0\u001b[39m] \u001b[38;5;28;01mif\u001b[39;00m \u001b[38;5;28mself\u001b[39m\u001b[38;5;241m.\u001b[39m_impl_policies \u001b[38;5;28;01melse\u001b[39;00m _TransportRunner(\u001b[38;5;28mself\u001b[39m\u001b[38;5;241m.\u001b[39m_transport)\n\u001b[1;32m--> 230\u001b[0m \u001b[38;5;28;01mreturn\u001b[39;00m first_node\u001b[38;5;241m.\u001b[39msend(pipeline_request)\n",
      "File \u001b[1;32mc:\\Users\\hgamaleldin\\AppData\\Local\\anaconda3\\Lib\\site-packages\\azure\\core\\pipeline\\_base.py:86\u001b[0m, in \u001b[0;36m_SansIOHTTPPolicyRunner.send\u001b[1;34m(self, request)\u001b[0m\n\u001b[0;32m     84\u001b[0m _await_result(\u001b[38;5;28mself\u001b[39m\u001b[38;5;241m.\u001b[39m_policy\u001b[38;5;241m.\u001b[39mon_request, request)\n\u001b[0;32m     85\u001b[0m \u001b[38;5;28;01mtry\u001b[39;00m:\n\u001b[1;32m---> 86\u001b[0m     response \u001b[38;5;241m=\u001b[39m \u001b[38;5;28mself\u001b[39m\u001b[38;5;241m.\u001b[39mnext\u001b[38;5;241m.\u001b[39msend(request)\n\u001b[0;32m     87\u001b[0m \u001b[38;5;28;01mexcept\u001b[39;00m \u001b[38;5;167;01mException\u001b[39;00m:  \u001b[38;5;66;03m# pylint: disable=broad-except\u001b[39;00m\n\u001b[0;32m     88\u001b[0m     _await_result(\u001b[38;5;28mself\u001b[39m\u001b[38;5;241m.\u001b[39m_policy\u001b[38;5;241m.\u001b[39mon_exception, request)\n",
      "File \u001b[1;32mc:\\Users\\hgamaleldin\\AppData\\Local\\anaconda3\\Lib\\site-packages\\azure\\core\\pipeline\\_base.py:86\u001b[0m, in \u001b[0;36m_SansIOHTTPPolicyRunner.send\u001b[1;34m(self, request)\u001b[0m\n\u001b[0;32m     84\u001b[0m _await_result(\u001b[38;5;28mself\u001b[39m\u001b[38;5;241m.\u001b[39m_policy\u001b[38;5;241m.\u001b[39mon_request, request)\n\u001b[0;32m     85\u001b[0m \u001b[38;5;28;01mtry\u001b[39;00m:\n\u001b[1;32m---> 86\u001b[0m     response \u001b[38;5;241m=\u001b[39m \u001b[38;5;28mself\u001b[39m\u001b[38;5;241m.\u001b[39mnext\u001b[38;5;241m.\u001b[39msend(request)\n\u001b[0;32m     87\u001b[0m \u001b[38;5;28;01mexcept\u001b[39;00m \u001b[38;5;167;01mException\u001b[39;00m:  \u001b[38;5;66;03m# pylint: disable=broad-except\u001b[39;00m\n\u001b[0;32m     88\u001b[0m     _await_result(\u001b[38;5;28mself\u001b[39m\u001b[38;5;241m.\u001b[39m_policy\u001b[38;5;241m.\u001b[39mon_exception, request)\n",
      "    \u001b[1;31m[... skipping similar frames: _SansIOHTTPPolicyRunner.send at line 86 (2 times)]\u001b[0m\n",
      "File \u001b[1;32mc:\\Users\\hgamaleldin\\AppData\\Local\\anaconda3\\Lib\\site-packages\\azure\\core\\pipeline\\_base.py:86\u001b[0m, in \u001b[0;36m_SansIOHTTPPolicyRunner.send\u001b[1;34m(self, request)\u001b[0m\n\u001b[0;32m     84\u001b[0m _await_result(\u001b[38;5;28mself\u001b[39m\u001b[38;5;241m.\u001b[39m_policy\u001b[38;5;241m.\u001b[39mon_request, request)\n\u001b[0;32m     85\u001b[0m \u001b[38;5;28;01mtry\u001b[39;00m:\n\u001b[1;32m---> 86\u001b[0m     response \u001b[38;5;241m=\u001b[39m \u001b[38;5;28mself\u001b[39m\u001b[38;5;241m.\u001b[39mnext\u001b[38;5;241m.\u001b[39msend(request)\n\u001b[0;32m     87\u001b[0m \u001b[38;5;28;01mexcept\u001b[39;00m \u001b[38;5;167;01mException\u001b[39;00m:  \u001b[38;5;66;03m# pylint: disable=broad-except\u001b[39;00m\n\u001b[0;32m     88\u001b[0m     _await_result(\u001b[38;5;28mself\u001b[39m\u001b[38;5;241m.\u001b[39m_policy\u001b[38;5;241m.\u001b[39mon_exception, request)\n",
      "File \u001b[1;32mc:\\Users\\hgamaleldin\\AppData\\Local\\anaconda3\\Lib\\site-packages\\azure\\core\\pipeline\\policies\\_redirect.py:197\u001b[0m, in \u001b[0;36mRedirectPolicy.send\u001b[1;34m(self, request)\u001b[0m\n\u001b[0;32m    195\u001b[0m original_domain \u001b[38;5;241m=\u001b[39m get_domain(request\u001b[38;5;241m.\u001b[39mhttp_request\u001b[38;5;241m.\u001b[39murl) \u001b[38;5;28;01mif\u001b[39;00m redirect_settings[\u001b[38;5;124m\"\u001b[39m\u001b[38;5;124mallow\u001b[39m\u001b[38;5;124m\"\u001b[39m] \u001b[38;5;28;01melse\u001b[39;00m \u001b[38;5;28;01mNone\u001b[39;00m\n\u001b[0;32m    196\u001b[0m \u001b[38;5;28;01mwhile\u001b[39;00m retryable:\n\u001b[1;32m--> 197\u001b[0m     response \u001b[38;5;241m=\u001b[39m \u001b[38;5;28mself\u001b[39m\u001b[38;5;241m.\u001b[39mnext\u001b[38;5;241m.\u001b[39msend(request)\n\u001b[0;32m    198\u001b[0m     redirect_location \u001b[38;5;241m=\u001b[39m \u001b[38;5;28mself\u001b[39m\u001b[38;5;241m.\u001b[39mget_redirect_location(response)\n\u001b[0;32m    199\u001b[0m     \u001b[38;5;28;01mif\u001b[39;00m redirect_location \u001b[38;5;129;01mand\u001b[39;00m redirect_settings[\u001b[38;5;124m\"\u001b[39m\u001b[38;5;124mallow\u001b[39m\u001b[38;5;124m\"\u001b[39m]:\n",
      "File \u001b[1;32mc:\\Users\\hgamaleldin\\AppData\\Local\\anaconda3\\Lib\\site-packages\\azure\\core\\pipeline\\policies\\_retry.py:553\u001b[0m, in \u001b[0;36mRetryPolicy.send\u001b[1;34m(self, request)\u001b[0m\n\u001b[0;32m    551\u001b[0m                 is_response_error \u001b[38;5;241m=\u001b[39m \u001b[38;5;28;01mTrue\u001b[39;00m\n\u001b[0;32m    552\u001b[0m             \u001b[38;5;28;01mcontinue\u001b[39;00m\n\u001b[1;32m--> 553\u001b[0m     \u001b[38;5;28;01mraise\u001b[39;00m err\n\u001b[0;32m    554\u001b[0m \u001b[38;5;28;01mfinally\u001b[39;00m:\n\u001b[0;32m    555\u001b[0m     end_time \u001b[38;5;241m=\u001b[39m time\u001b[38;5;241m.\u001b[39mtime()\n",
      "File \u001b[1;32mc:\\Users\\hgamaleldin\\AppData\\Local\\anaconda3\\Lib\\site-packages\\azure\\core\\pipeline\\policies\\_retry.py:531\u001b[0m, in \u001b[0;36mRetryPolicy.send\u001b[1;34m(self, request)\u001b[0m\n\u001b[0;32m    529\u001b[0m \u001b[38;5;28;01mtry\u001b[39;00m:\n\u001b[0;32m    530\u001b[0m     \u001b[38;5;28mself\u001b[39m\u001b[38;5;241m.\u001b[39m_configure_timeout(request, absolute_timeout, is_response_error)\n\u001b[1;32m--> 531\u001b[0m     response \u001b[38;5;241m=\u001b[39m \u001b[38;5;28mself\u001b[39m\u001b[38;5;241m.\u001b[39mnext\u001b[38;5;241m.\u001b[39msend(request)\n\u001b[0;32m    532\u001b[0m     \u001b[38;5;28;01mif\u001b[39;00m \u001b[38;5;28mself\u001b[39m\u001b[38;5;241m.\u001b[39mis_retry(retry_settings, response):\n\u001b[0;32m    533\u001b[0m         retry_active \u001b[38;5;241m=\u001b[39m \u001b[38;5;28mself\u001b[39m\u001b[38;5;241m.\u001b[39mincrement(retry_settings, response\u001b[38;5;241m=\u001b[39mresponse)\n",
      "File \u001b[1;32mc:\\Users\\hgamaleldin\\AppData\\Local\\anaconda3\\Lib\\site-packages\\azure\\core\\pipeline\\_base.py:86\u001b[0m, in \u001b[0;36m_SansIOHTTPPolicyRunner.send\u001b[1;34m(self, request)\u001b[0m\n\u001b[0;32m     84\u001b[0m _await_result(\u001b[38;5;28mself\u001b[39m\u001b[38;5;241m.\u001b[39m_policy\u001b[38;5;241m.\u001b[39mon_request, request)\n\u001b[0;32m     85\u001b[0m \u001b[38;5;28;01mtry\u001b[39;00m:\n\u001b[1;32m---> 86\u001b[0m     response \u001b[38;5;241m=\u001b[39m \u001b[38;5;28mself\u001b[39m\u001b[38;5;241m.\u001b[39mnext\u001b[38;5;241m.\u001b[39msend(request)\n\u001b[0;32m     87\u001b[0m \u001b[38;5;28;01mexcept\u001b[39;00m \u001b[38;5;167;01mException\u001b[39;00m:  \u001b[38;5;66;03m# pylint: disable=broad-except\u001b[39;00m\n\u001b[0;32m     88\u001b[0m     _await_result(\u001b[38;5;28mself\u001b[39m\u001b[38;5;241m.\u001b[39m_policy\u001b[38;5;241m.\u001b[39mon_exception, request)\n",
      "File \u001b[1;32mc:\\Users\\hgamaleldin\\AppData\\Local\\anaconda3\\Lib\\site-packages\\azure\\core\\pipeline\\_base.py:86\u001b[0m, in \u001b[0;36m_SansIOHTTPPolicyRunner.send\u001b[1;34m(self, request)\u001b[0m\n\u001b[0;32m     84\u001b[0m _await_result(\u001b[38;5;28mself\u001b[39m\u001b[38;5;241m.\u001b[39m_policy\u001b[38;5;241m.\u001b[39mon_request, request)\n\u001b[0;32m     85\u001b[0m \u001b[38;5;28;01mtry\u001b[39;00m:\n\u001b[1;32m---> 86\u001b[0m     response \u001b[38;5;241m=\u001b[39m \u001b[38;5;28mself\u001b[39m\u001b[38;5;241m.\u001b[39mnext\u001b[38;5;241m.\u001b[39msend(request)\n\u001b[0;32m     87\u001b[0m \u001b[38;5;28;01mexcept\u001b[39;00m \u001b[38;5;167;01mException\u001b[39;00m:  \u001b[38;5;66;03m# pylint: disable=broad-except\u001b[39;00m\n\u001b[0;32m     88\u001b[0m     _await_result(\u001b[38;5;28mself\u001b[39m\u001b[38;5;241m.\u001b[39m_policy\u001b[38;5;241m.\u001b[39mon_exception, request)\n",
      "    \u001b[1;31m[... skipping similar frames: _SansIOHTTPPolicyRunner.send at line 86 (3 times)]\u001b[0m\n",
      "File \u001b[1;32mc:\\Users\\hgamaleldin\\AppData\\Local\\anaconda3\\Lib\\site-packages\\azure\\core\\pipeline\\_base.py:86\u001b[0m, in \u001b[0;36m_SansIOHTTPPolicyRunner.send\u001b[1;34m(self, request)\u001b[0m\n\u001b[0;32m     84\u001b[0m _await_result(\u001b[38;5;28mself\u001b[39m\u001b[38;5;241m.\u001b[39m_policy\u001b[38;5;241m.\u001b[39mon_request, request)\n\u001b[0;32m     85\u001b[0m \u001b[38;5;28;01mtry\u001b[39;00m:\n\u001b[1;32m---> 86\u001b[0m     response \u001b[38;5;241m=\u001b[39m \u001b[38;5;28mself\u001b[39m\u001b[38;5;241m.\u001b[39mnext\u001b[38;5;241m.\u001b[39msend(request)\n\u001b[0;32m     87\u001b[0m \u001b[38;5;28;01mexcept\u001b[39;00m \u001b[38;5;167;01mException\u001b[39;00m:  \u001b[38;5;66;03m# pylint: disable=broad-except\u001b[39;00m\n\u001b[0;32m     88\u001b[0m     _await_result(\u001b[38;5;28mself\u001b[39m\u001b[38;5;241m.\u001b[39m_policy\u001b[38;5;241m.\u001b[39mon_exception, request)\n",
      "File \u001b[1;32mc:\\Users\\hgamaleldin\\AppData\\Local\\anaconda3\\Lib\\site-packages\\azure\\core\\pipeline\\_base.py:119\u001b[0m, in \u001b[0;36m_TransportRunner.send\u001b[1;34m(self, request)\u001b[0m\n\u001b[0;32m    109\u001b[0m \u001b[38;5;250m\u001b[39m\u001b[38;5;124;03m\"\"\"HTTP transport send method.\u001b[39;00m\n\u001b[0;32m    110\u001b[0m \n\u001b[0;32m    111\u001b[0m \u001b[38;5;124;03m:param request: The PipelineRequest object.\u001b[39;00m\n\u001b[1;32m   (...)\u001b[0m\n\u001b[0;32m    114\u001b[0m \u001b[38;5;124;03m:rtype: ~azure.core.pipeline.PipelineResponse\u001b[39;00m\n\u001b[0;32m    115\u001b[0m \u001b[38;5;124;03m\"\"\"\u001b[39;00m\n\u001b[0;32m    116\u001b[0m cleanup_kwargs_for_transport(request\u001b[38;5;241m.\u001b[39mcontext\u001b[38;5;241m.\u001b[39moptions)\n\u001b[0;32m    117\u001b[0m \u001b[38;5;28;01mreturn\u001b[39;00m PipelineResponse(\n\u001b[0;32m    118\u001b[0m     request\u001b[38;5;241m.\u001b[39mhttp_request,\n\u001b[1;32m--> 119\u001b[0m     \u001b[38;5;28mself\u001b[39m\u001b[38;5;241m.\u001b[39m_sender\u001b[38;5;241m.\u001b[39msend(request\u001b[38;5;241m.\u001b[39mhttp_request, \u001b[38;5;241m*\u001b[39m\u001b[38;5;241m*\u001b[39mrequest\u001b[38;5;241m.\u001b[39mcontext\u001b[38;5;241m.\u001b[39moptions),\n\u001b[0;32m    120\u001b[0m     context\u001b[38;5;241m=\u001b[39mrequest\u001b[38;5;241m.\u001b[39mcontext,\n\u001b[0;32m    121\u001b[0m )\n",
      "File \u001b[1;32mc:\\Users\\hgamaleldin\\AppData\\Local\\anaconda3\\Lib\\site-packages\\azure\\core\\pipeline\\transport\\_requests_basic.py:386\u001b[0m, in \u001b[0;36mRequestsTransport.send\u001b[1;34m(self, request, proxies, **kwargs)\u001b[0m\n\u001b[0;32m    383\u001b[0m     error \u001b[38;5;241m=\u001b[39m ServiceRequestError(err, error\u001b[38;5;241m=\u001b[39merr)\n\u001b[0;32m    385\u001b[0m \u001b[38;5;28;01mif\u001b[39;00m error:\n\u001b[1;32m--> 386\u001b[0m     \u001b[38;5;28;01mraise\u001b[39;00m error\n\u001b[0;32m    387\u001b[0m \u001b[38;5;28;01mif\u001b[39;00m _is_rest(request):\n\u001b[0;32m    388\u001b[0m     \u001b[38;5;28;01mfrom\u001b[39;00m \u001b[38;5;21;01mazure\u001b[39;00m\u001b[38;5;21;01m.\u001b[39;00m\u001b[38;5;21;01mcore\u001b[39;00m\u001b[38;5;21;01m.\u001b[39;00m\u001b[38;5;21;01mrest\u001b[39;00m\u001b[38;5;21;01m.\u001b[39;00m\u001b[38;5;21;01m_requests_basic\u001b[39;00m \u001b[38;5;28;01mimport\u001b[39;00m RestRequestsTransportResponse\n",
      "\u001b[1;31mServiceRequestError\u001b[0m: No connection adapters were found for 'YOUR_RESOURCE_ENDPOINT_HERE/documentintelligence/documentModels/prebuilt-layout:analyze?api-version=2024-02-29-preview&features=styleFont&outputContentFormat=markdown'"
     ]
    }
   ],
   "source": [
    "## 1. APPLY DOCUMENT INTELLIGENCE\n",
    "def document_layout_analysis(document_path, di_endpoint=DOC_INTELLIGENCE_ENDPOINT, di_key=DOC_INTELLIGENCE_KEY):\n",
    "    doc_intelligence_client = DocumentIntelligenceClient(endpoint=di_endpoint, \n",
    "                                                        credential=AzureKeyCredential(di_key))\n",
    "    if document_path.endswith('.html'): ## Styles feature currently is not supported for HTML files\n",
    "        features=[]\n",
    "    elif document_path.endswith('.pdf'):\n",
    "        features=[DocumentAnalysisFeature.STYLE_FONT]\n",
    "        \n",
    "    with open(document_path, \"rb\") as f:  \n",
    "        poller = doc_intelligence_client.begin_analyze_document(  \n",
    "            \"prebuilt-layout\",  \n",
    "            f,\n",
    "            content_type=\"application/octet-stream\",  \n",
    "            output_content_format=\"markdown\",\n",
    "            features=features\n",
    "            \n",
    "        )\n",
    "    result = poller.result()  \n",
    "    return result\n",
    "\n",
    "document_name = \"2020_Apr_George.pdf\"\n",
    "results = document_layout_analysis(os.path.join(\"data\\documents\", document_name))\n",
    "print(results['content'])"
   ]
  },
  {
   "cell_type": "code",
   "execution_count": 15,
   "metadata": {},
   "outputs": [],
   "source": [
    "## STORING DOCUMENT INTELLIGENECE OUTPUT\n",
    "def store_analysis(di_response, folder_path, filename):\n",
    "    for key in di_response.keys():  \n",
    "        with open(os.path.join(folder_path, f\"{filename}_{key.upper()}.md\"), \"w\", encoding=\"utf-8\") as file:  \n",
    "            file.write(str(di_response[key]))  \n",
    "\n",
    "store_analysis(results, \"\", document_name[:-4])"
   ]
  },
  {
   "cell_type": "code",
   "execution_count": 16,
   "metadata": {},
   "outputs": [
    {
     "name": "stdout",
     "output_type": "stream",
     "text": [
      "<figure>\n",
      "\n",
      "![](figures/0)\n",
      "\n",
      "<!-- FigureContent=\"<backgroundcolor: #fafafa><color: #414141><offsets: 46,59>Department of</backgroundcolor></color> <font_style: bold><color: #050505><offsets: 60,67><backgroundcolor: #f8f8f8>Revenue</font_style></color> <offsets: 68,78><color: #5d5d5d>Washington</color> <offsets: 79,84><color: #555555>State</backgroundcolor></color>\" -->\n",
      "\n",
      "</figure>\n",
      "\n",
      "\n",
      "<backgroundcolor: #fefefe><offsets: 103,141><color: #0d0dfd>WASHINGTON STATE DEPARTMENT OF REVENUE</color> <color: #0101fd><offsets: 142,164>LOCAL SALES TAX CHANGE</color></backgroundcolor>\n",
      "\n",
      "<font_style: bold><backgroundcolor: #fefefe><offsets: 166,236><color: #010101>City of George Transportation Benefit District Effective April 1, 2020</color></font_style></backgroundcolor>\n",
      "===\n",
      "\n",
      "<offsets: 242,266><font_style: bold><backgroundcolor: #fefefe><color: #010101>Effective April 1, 2020,</font_style></color> <color: #0d0d0d><offsets: 267,275>the City</color> <offsets: 276,278><color: #050505>of</color> <color: #090909><offsets: 279,285>George</color> <color: #0d0d0d><offsets: 286,290>will</color> <color: #090909><offsets: 291,302>establish a</color> <offsets: 303,317><color: #0d0d0d>Transportation</color> <offsets: 318,325><color: #090909>Benefit</color> <offsets: 326,334><color: #0d0d0d>District</color> <offsets: 335,341><color: #090909>(TBD).</color> <color: #050505><offsets: 342,347>Sales</color> <color: #090909><offsets: 348,366>and use tax <font_style: bold>within</font_style></color> <color: #050505><offsets: 367,370>the</color> <offsets: 371,385><color: #090909>City of George</color> <offsets: 386,399><color: #0d0d0d>will increase</color> <color: #090909><offsets: 400,413>two-tenths of</color> <color: #0d0d0d><offsets: 414,417>one</color> <offsets: 418,425><color: #090909>percent</color> <offsets: 426,433><color: #0d0d0d>(.002).</color> <offsets: 434,437><color: #050505>The</color> <color: #090909><offsets: 438,441>tax</color> <font_style: bold><color: #0d0d0d><offsets: 442,446>will</color></font_style> <offsets: 447,454><color: #090909>be used</color> <color: #0d0d0d><offsets: 455,483>for transportation services.</color></backgroundcolor>\n",
      "\n",
      "<backgroundcolor: #fefefe><offsets: 485,508><color: #090909>Businesses must collect</color> <offsets: 509,528><color: #0d0d0d>the appropriate new</color> <offsets: 529,546><color: #090909>rate of sales tax</color> <offsets: 547,550><color: #0d0d0d>for</color> <color: #090909><offsets: 551,557>retail</color> <offsets: 558,563><color: #0d0d0d>sales</color> <offsets: 564,567><color: #090909>and</color> <offsets: 568,596><color: #0d0d0d>services provided within the</color> <offsets: 597,601><color: #090909>City</color> <color: #0d0d0d><offsets: 602,619>of George (1304).</color> <color: #090909><offsets: 620,627>Persons</color> <color: #0d0d0d><offsets: 628,648>or businesses within</color> <offsets: 649,652><color: #090909>the</color> <color: #0d0d0d><offsets: 653,660>City of</color> <offsets: 661,667><color: #090909>George</color> <color: #0d0d0d><offsets: 668,675>will be</color> <offsets: 676,683><color: #090909>subject</color> <color: #0d0d0d><offsets: 684,690>to the</color> <offsets: 691,699><color: #090909>new rate</color> <offsets: 700,706><color: #0d0d0d>of use</color> <color: #090909><offsets: 707,710>tax</color> <offsets: 711,729><color: #0d0d0d>on items purchased</color> <color: #090909><offsets: 730,733>for</color> <color: #0d0d0d><offsets: 734,751>their personal or</color> <color: #090909><offsets: 752,764>business use</color> <offsets: 765,773><color: #050505>if sales</color> <color: #090909><offsets: 774,777>tax</color> <offsets: 778,781><color: #050505>has</color> <offsets: 782,796><color: #0d0d0d>not been paid.</backgroundcolor></color>\n",
      "\n",
      "<offsets: 798,810><color: #0d0d0d><backgroundcolor: #fefefe>The new rate</color> <color: #090909><offsets: 811,823>of sales tax</color> <offsets: 824,827><color: #111111>is:</color></backgroundcolor>\n",
      "\n",
      "| <offsets: 831,839><font_style: bold><backgroundcolor: #d8d8d8><color: #010101>Location</font_style></backgroundcolor></color> | <offsets: 842,862><font_style: bold><color: #010101><backgroundcolor: #d8d8d8>Location Code Number</font_style></backgroundcolor></color> | <backgroundcolor: #d8d8d8><offsets: 865,885><font_style: bold><color: #010101>Local Sales Tax Rate</font_style></backgroundcolor></color> | <font_style: bold><offsets: 888,903><color: #010101><backgroundcolor: #d8d8d8>State Sales Tax</backgroundcolor></color> <offsets: 904,908><backgroundcolor: #040404><color: #d9d9d9>Rate</font_style></backgroundcolor></color> | <backgroundcolor: #d8d8d8><font_style: bold><color: #010101><offsets: 911,931>Total Sales Tax Rate</font_style></backgroundcolor></color> |\n",
      "| - | - | - | - | - |\n",
      "| <offsets: 958,973><backgroundcolor: #fefefe><color: #0d0d0d>Unincorp. Areas</color></backgroundcolor> | <backgroundcolor: #fefefe><color: #191919><offsets: 976,980>1300</backgroundcolor></color> | <color: #151515><offsets: 983,987><backgroundcolor: #fefefe>.017</backgroundcolor></color> | <backgroundcolor: #fefefe><offsets: 990,994><color: #090909>.065</backgroundcolor></color> | <color: #151515><offsets: 997,1001><backgroundcolor: #fefefe>.082</backgroundcolor></color> |\n",
      "| <backgroundcolor: #fefefe><color: #090909><offsets: 1006,1012>Coulee</color> <color: #0d0d0d><offsets: 1013,1017>City</backgroundcolor></color> | <backgroundcolor: #fefefe><offsets: 1020,1024><color: #090909>1301</color></backgroundcolor> | <color: #151515><offsets: 1027,1031><backgroundcolor: #fefefe>.017</color></backgroundcolor> | <offsets: 1034,1038><backgroundcolor: #fefefe><color: #191919>.065</color></backgroundcolor> | <backgroundcolor: #fefefe><offsets: 1041,1045><color: #151515>.082</color></backgroundcolor> |\n",
      "| <offsets: 1050,1063><backgroundcolor: #fefefe><color: #090909>Electric City</backgroundcolor></color> | <backgroundcolor: #fefefe><color: #090909><offsets: 1066,1070>1302</color></backgroundcolor> | <color: #151515><backgroundcolor: #fefefe><offsets: 1073,1077>.017</backgroundcolor></color> | <backgroundcolor: #fefefe><offsets: 1080,1084><color: #151515>.065</color></backgroundcolor> | <color: #0d0d0d><offsets: 1087,1091><backgroundcolor: #fefefe>.082</color></backgroundcolor> |\n",
      "| <color: #0d0d0d><backgroundcolor: #fefefe><offsets: 1096,1103>Ephrata</color></backgroundcolor> | <color: #151515><offsets: 1106,1110><backgroundcolor: #fefefe>1303</color></backgroundcolor> | <offsets: 1113,1117><backgroundcolor: #fefefe><color: #151515>.019</backgroundcolor></color> | <backgroundcolor: #fefefe><offsets: 1120,1124><color: #191919>.065</color></backgroundcolor> | <offsets: 1127,1131><color: #151515><backgroundcolor: #fefefe>.084</backgroundcolor></color> |\n",
      "| <color: #0101fd><offsets: 1136,1146><font_style: bold><backgroundcolor: #fefefe>George TBD</backgroundcolor></font_style></color> | <color: #0505fd><offsets: 1149,1153><font_style: bold><backgroundcolor: #fefefe>1304</font_style></backgroundcolor></color> | <offsets: 1156,1160><font_style: bold><backgroundcolor: #fefefe><color: #0101fd>.019</font_style></backgroundcolor></color> | <color: #0505fd><offsets: 1163,1167><font_style: bold><backgroundcolor: #fefefe>.065</color></font_style></backgroundcolor> | <font_style: bold><backgroundcolor: #fefefe><offsets: 1170,1174><color: #0101fd>.084</font_style></backgroundcolor></color> |\n",
      "| <color: #0d0d0d><backgroundcolor: #fefefe><offsets: 1179,1184>Grand</color> <offsets: 1185,1191><color: #090909>Coulee</backgroundcolor></color> | <backgroundcolor: #fefefe><color: #151515><offsets: 1194,1198>1305</backgroundcolor></color> | <offsets: 1201,1205><backgroundcolor: #fefefe><color: #0d0d0d>.019</color></backgroundcolor> | <backgroundcolor: #fefefe><offsets: 1208,1212><color: #090909>.065</backgroundcolor></color> | <backgroundcolor: #fefefe><color: #151515><offsets: 1215,1219>.084</backgroundcolor></color> |\n",
      "| <offsets: 1224,1232><backgroundcolor: #fefefe><color: #090909>Hartline</backgroundcolor></color> | <backgroundcolor: #fefefe><color: #151515><offsets: 1235,1239>1306</backgroundcolor></color> | <color: #151515><backgroundcolor: #fefefe><offsets: 1242,1246>.017</backgroundcolor></color> | <offsets: 1249,1253><backgroundcolor: #fefefe><color: #0d0d0d>.065</backgroundcolor></color> | <offsets: 1256,1260><color: #090909><backgroundcolor: #fefefe>.082</backgroundcolor></color> |\n",
      "| <backgroundcolor: #fefefe><color: #191919><offsets: 1265,1270>Krupp</backgroundcolor></color> | <backgroundcolor: #fefefe><color: #090909><offsets: 1273,1277>1307</backgroundcolor></color> | <offsets: 1280,1284><backgroundcolor: #fefefe><color: #191919>.017</color></backgroundcolor> | <offsets: 1287,1291><backgroundcolor: #fefefe><color: #191919>.065</backgroundcolor></color> | <color: #090909><offsets: 1294,1298><backgroundcolor: #fefefe>.082</backgroundcolor></color> |\n",
      "| <backgroundcolor: #fefefe><color: #0d0d0d><offsets: 1303,1310>Mattawa</color></backgroundcolor> | <offsets: 1313,1317><color: #151515><backgroundcolor: #fefefe>1308</backgroundcolor></color> | <backgroundcolor: #fefefe><offsets: 1320,1324><color: #151515>.019</color></backgroundcolor> | <offsets: 1327,1331><color: #0d0d0d><backgroundcolor: #fefefe>.065</color></backgroundcolor> | <backgroundcolor: #fefefe><color: #090909><offsets: 1334,1338>.084</color></backgroundcolor> |\n",
      "| <offsets: 1343,1353><color: #0d0d0d><backgroundcolor: #fefefe>Moses Lake</color></backgroundcolor> | <offsets: 1356,1360><backgroundcolor: #fefefe><color: #090909>1309</color></backgroundcolor> | <backgroundcolor: #fefefe><color: #151515><offsets: 1363,1367>.019</backgroundcolor></color> | <color: #191919><backgroundcolor: #fefefe><offsets: 1370,1374>.065</backgroundcolor></color> | <offsets: 1377,1381><backgroundcolor: #fefefe><color: #151515>.084</backgroundcolor></color> |\n",
      "| <offsets: 1386,1392><color: #191919><backgroundcolor: #fefefe>Quincy</backgroundcolor></color> | <color: #0d0d0d><offsets: 1395,1399><backgroundcolor: #fefefe>1310</color></backgroundcolor> | <color: #191919><backgroundcolor: #fefefe><offsets: 1402,1406>.017</color></backgroundcolor> | <color: #191919><offsets: 1409,1413><backgroundcolor: #fefefe>.065</backgroundcolor></color> | <color: #151515><backgroundcolor: #fefefe><offsets: 1416,1420>.082</backgroundcolor></color> |\n",
      "| <color: #0d0d0d><backgroundcolor: #fefefe><offsets: 1425,1435>Royal City</backgroundcolor></color> | <color: #0d0d0d><offsets: 1438,1442><backgroundcolor: #fefefe>1311</backgroundcolor></color> | <offsets: 1445,1449><backgroundcolor: #fefefe><color: #151515>.017</backgroundcolor></color> | <color: #191919><offsets: 1452,1456><backgroundcolor: #fefefe>.065</backgroundcolor></color> | <offsets: 1459,1463><backgroundcolor: #fefefe><color: #090909>.082</backgroundcolor></color> |\n",
      "| <color: #090909><offsets: 1468,1472><backgroundcolor: #fefefe>Soap</color> <offsets: 1473,1477><color: #0d0d0d>Lake</backgroundcolor></color> | <color: #090909><backgroundcolor: #fefefe><offsets: 1480,1484>1312</backgroundcolor></color> | <offsets: 1487,1491><backgroundcolor: #fefefe><color: #151515>.017</backgroundcolor></color> | <color: #0d0d0d><backgroundcolor: #fefefe><offsets: 1494,1498>.065</backgroundcolor></color> | <backgroundcolor: #fefefe><color: #191919><offsets: 1501,1505>.082</color></backgroundcolor> |\n",
      "| <color: #0d0d0d><offsets: 1510,1516><backgroundcolor: #fefefe>Warden</backgroundcolor></color> | <backgroundcolor: #fefefe><color: #090909><offsets: 1519,1523>1313</backgroundcolor></color> | <color: #151515><offsets: 1526,1530><backgroundcolor: #fefefe>.017</backgroundcolor></color> | <backgroundcolor: #fefefe><color: #151515><offsets: 1533,1537>.065</backgroundcolor></color> | <color: #191919><offsets: 1540,1544><backgroundcolor: #fefefe>.082</backgroundcolor></color> |\n",
      "| <backgroundcolor: #fefefe><color: #0d0d0d><offsets: 1549,1555>Wilson</color> <color: #090909><offsets: 1556,1561>Creek</backgroundcolor></color> | <backgroundcolor: #fefefe><color: #191919><offsets: 1564,1568>1315</backgroundcolor></color> | <offsets: 1571,1575><backgroundcolor: #fefefe><color: #151515>.017</backgroundcolor></color> | <color: #151515><offsets: 1578,1582><backgroundcolor: #fefefe>.065</backgroundcolor></color> | <backgroundcolor: #fefefe><offsets: 1585,1589><color: #151515>.082</color></backgroundcolor> |\n",
      "\n",
      "<backgroundcolor: #fefefe><offsets: 1593,1609><color: #090909>To determine the</color> <color: #0d0d0d><offsets: 1610,1616>proper</color> <color: #090909><offsets: 1617,1622>codes</color> <color: #0d0d0d><offsets: 1623,1635>and rates of</color> <offsets: 1636,1655><color: #090909>local sales tax you</color> <color: #0d0d0d><offsets: 1656,1659>may</color> <color: #090909><offsets: 1660,1666>access</color> <offsets: 1667,1674><color: #050505>our Tax</color> <offsets: 1675,1679><color: #090909>Rate</color> <color: #0d0d0d><offsets: 1680,1686>Lookup</color> <color: #090909><offsets: 1687,1702>Tool located at</color> <offsets: 1703,1714><color: #0d0d0d>dor.wa.gov.</color> <color: #090909><offsets: 1715,1717>On</color> <color: #0d0d0d><offsets: 1718,1732>the home page,</color> <offsets: 1733,1745><color: #090909>click on the</color> <font_style: bold><offsets: 1746,1774><color: #010101>Find a sales or use tax rate</font_style></color> <offsets: 1775,1780><color: #090909>link.</backgroundcolor></color>\n",
      "\n",
      "<color: #050505><backgroundcolor: #fefefe><offsets: 1782,1786>This</color> <offsets: 1787,1793><color: #0d0d0d>notice</color> <offsets: 1794,1796><color: #111111>is</color> <offsets: 1797,1826><color: #090909>being sent to businesses that</color> <color: #0d0d0d><offsets: 1827,1831>have</color> <offsets: 1832,1855><color: #090909>reported local sales or</color> <color: #0d0d0d><offsets: 1856,1859>use</color> <offsets: 1860,1863><color: #090909>tax</color> <color: #050505><offsets: 1864,1870>to the</color> <offsets: 1871,1885><color: #090909>City of George</color> <color: #0d0d0d><offsets: 1886,1892>within</color> <offsets: 1893,1896><color: #090909>the</color> <offsets: 1897,1907><color: #0d0d0d>last year.</color></backgroundcolor>\n",
      "\n",
      "<backgroundcolor: #fefefe><color: #010101><offsets: 1909,1911>If</color> <offsets: 1912,1915><color: #090909>you</color> <offsets: 1916,1920><color: #0d0d0d>have</color> <color: #090909><offsets: 1921,1931>questions,</color> <offsets: 1932,1934><color: #111111>or</color> <color: #0d0d0d><offsets: 1935,1937>if</color> <offsets: 1938,1947><color: #090909>Sales Tax</color> <offsets: 1948,1987><color: #0d0d0d>Collection Schedules are needed, please</color> <offsets: 1988,1990><color: #090909>go</color> <color: #0d0d0d><offsets: 1991,1993>to</color> <color: #090909><offsets: 1994,1997>our</color> <offsets: 1998,2023><color: #0d0d0d>web site at dor.wa.gov or</color> <offsets: 2024,2028><color: #151515>call</color> <color: #0d0d0d><offsets: 2029,2032>the</color> <offsets: 2033,2043><color: #090909>Department</color> <offsets: 2044,2046><color: #0d0d0d>of</color> <color: #090909><offsets: 2047,2054>Revenue</color> <color: #050505><offsets: 2055,2057>at</color> <offsets: 2058,2071><color: #090909>360-705-6705.</backgroundcolor></color>\n",
      "\n",
      "<backgroundcolor: #fefefe><color: #0909fd><offsets: 2073,2078>State</backgroundcolor></color> <color: #fdfdfd><font_style: bold><offsets: 2079,2081><backgroundcolor: #2626fe>of</font_style></backgroundcolor></color> <backgroundcolor: #fefefe><color: #0d0dfd><offsets: 2082,2101>Washington Taxpayer</color> <color: #1111fd><offsets: 2102,2159>Account Administration PO Box 47476 Olympia WA 98504-7476</color></backgroundcolor>\n",
      "\n",
      "<color: #151515><backgroundcolor: #fefefe><offsets: 2161,2164>For</color> <color: #111111><offsets: 2165,2168>tax</color> <color: #151515><offsets: 2169,2182>assistance or</color> <offsets: 2183,2193><color: #111111>to request</color> <color: #191919><offsets: 2194,2198>this</color> <color: #151515><offsets: 2199,2210>document in</color> <offsets: 2211,2213><color: #111111>an</color> <offsets: 2214,2237><color: #151515>alternate format please</color> <color: #111111><offsets: 2238,2242>call</color> <color: #151515><offsets: 2243,2285>360-705-6705. Teletype (TTY) users may use</color> <offsets: 2286,2289><color: #111111>the</color> <color: #151515><offsets: 2290,2314>Washington Relay Service</color> <color: #191919><offsets: 2315,2325>by calling</color> <color: #151515><offsets: 2326,2330>711.</backgroundcolor></color>\n",
      "\n",
      "<backgroundcolor: #fefefe><offsets: 2332,2335><color: #111111>REV</color> <color: #151515><offsets: 2336,2345>(1-29-20)</color></backgroundcolor>\n",
      "\n"
     ]
    }
   ],
   "source": [
    "## 2. ADD STYLE TAGS TO THE TEXTUAL CONTENT\n",
    "def apply_tags_to_content(content, styles):\n",
    "    def merge_spans(spans):\n",
    "        if not spans:\n",
    "            return []\n",
    "        merged_spans = [spans[0]]\n",
    "        for current in spans[1:]:\n",
    "            last = merged_spans[-1]\n",
    "            if last['offset'] + last['length'] >= current['offset']:\n",
    "                merged_spans[-1] = {\n",
    "                    'offset': last['offset'],\n",
    "                    'length': max(last['length'], current['offset'] + current['length'] - last['offset'])\n",
    "                }\n",
    "            else:\n",
    "                merged_spans.append(current)\n",
    "        return merged_spans\n",
    "\n",
    "    color_spans = []\n",
    "    background_color = []\n",
    "    font_weight_spans = []\n",
    "\n",
    "    for style in styles:\n",
    "        for span in style['spans']:\n",
    "            if 'color' in style:\n",
    "                color_spans.append({'offset': span['offset'], 'length': span['length'], 'color': style['color']})\n",
    "            if 'backgroundColor' in style:\n",
    "                background_color.append({'offset': span['offset'], 'length': span['length'], 'backgroundColor': style['backgroundColor']})\n",
    "            if ('fontWeight' in style) and (style['fontWeight']=='bold'):\n",
    "                font_weight_spans.append({'offset': span['offset'], 'length': span['length'], 'fontWeight': style['fontWeight']})\n",
    "\n",
    "    merged_color_spans = merge_spans(sorted(color_spans, key=lambda x: x['offset']))\n",
    "    merged_backgroundcolor_spans = merge_spans(sorted(background_color, key=lambda x: x['offset']))\n",
    "    merged_font_weight_spans = merge_spans(sorted(font_weight_spans, key=lambda x: x['offset']))\n",
    "    \n",
    "    tags = []\n",
    "\n",
    "    for span in merged_color_spans:\n",
    "        tags.append((span['offset'], f\"<color: {span['color']}>\"))\n",
    "        tags.append((span['offset'] + span['length'], \"</color>\"))\n",
    "        tags.append((span['offset'], f\"<offsets: {span['offset']},{span['offset']+span['length']}>\"))\n",
    "        \n",
    "    for span in merged_backgroundcolor_spans:\n",
    "        tags.append((span['offset'], f\"<backgroundcolor: {span['backgroundColor']}>\"))\n",
    "        tags.append((span['offset'] + span['length'], \"</backgroundcolor>\"))\n",
    "        \n",
    "    for span in merged_font_weight_spans:\n",
    "        tags.append((span['offset'], f\"<font_style: {span['fontWeight']}>\"))\n",
    "        tags.append((span['offset'] + span['length'], \"</font_style>\"))\n",
    "\n",
    "    tags = list(set(tags))\n",
    "    tags.sort(key=lambda x: x[0])\n",
    "\n",
    "    tagged_content = []\n",
    "    last_index = 0\n",
    "    for offset, tag in tags:\n",
    "        tagged_content.append(content[last_index:offset])\n",
    "        tagged_content.append(tag)\n",
    "        last_index = offset\n",
    "\n",
    "    tagged_content.append(content[last_index:])\n",
    "\n",
    "    return ''.join(tagged_content)\n",
    "\n",
    "updated_content = apply_tags_to_content(results['content'], results['styles'])\n",
    "print(updated_content)"
   ]
  },
  {
   "cell_type": "code",
   "execution_count": 17,
   "metadata": {},
   "outputs": [
    {
     "name": "stdout",
     "output_type": "stream",
     "text": [
      "NUMBER OF RESULTED CHUNKS: 1\n"
     ]
    }
   ],
   "source": [
    "## 3. SEMANTIC CHUNKING\n",
    "## Using Byte Pair Encoding for Better Grammar understanding\n",
    "class TokenEstimator(object):\n",
    "    GPT2_TOKENIZER = tiktoken.encoding_for_model(\"gpt-4\")\n",
    "    def estimate_tokens(self, text):\n",
    "        return len(self.GPT2_TOKENIZER.encode(text, allowed_special=\"all\"))\n",
    "\n",
    "    def construct_tokens_with_size(self, tokens, numofTokens):\n",
    "        newTokens = self.GPT2_TOKENIZER.decode(\n",
    "            self.GPT2_TOKENIZER.encode(tokens, allowed_special=\"all\")[:numofTokens]\n",
    "        )\n",
    "        return newTokens\n",
    "\n",
    "def merge_chunks_serially(chunked_content_list, num_tokens):\n",
    "    current_chunk = \"\"\n",
    "    total_size = 0\n",
    "    TOKEN_ESTIMATOR = TokenEstimator()\n",
    "    for chunked_content in chunked_content_list:\n",
    "        chunk_size = TOKEN_ESTIMATOR.estimate_tokens(chunked_content)\n",
    "        if total_size > 0:\n",
    "            new_size = total_size + chunk_size\n",
    "            if new_size > num_tokens:\n",
    "                yield current_chunk, total_size\n",
    "                current_chunk = \"\"\n",
    "                total_size = 0\n",
    "        total_size += chunk_size\n",
    "        current_chunk += chunked_content\n",
    "    if total_size > 0:\n",
    "        yield current_chunk, total_size\n",
    "\n",
    "def semantic_chunking(document, file_name, num_tokens=128000, token_overlap=64000):\n",
    "    \n",
    "    splitter = MarkdownTextSplitter.from_tiktoken_encoder(\n",
    "    chunk_size=num_tokens, chunk_overlap=token_overlap)\n",
    "    if 'styles' in document:\n",
    "        content = apply_tags_to_content(document['content'], document['styles'])\n",
    "    else:\n",
    "        content = document['content']\n",
    "    chunked_content_list = splitter.split_text(\n",
    "        content)\n",
    "    \n",
    "    chunks = []\n",
    "    for chunked_content, chunk_size in merge_chunks_serially(chunked_content_list, num_tokens):\n",
    "        chunks.append(Document(page_content=chunked_content.strip(), metadata={\"source\": f\"{file_name[1]}.md\", \"chunk_size\": chunk_size}))\n",
    "    print(f\"NUMBER OF RESULTED CHUNKS: {len(chunks)}\")\n",
    "    return chunks \n",
    "\n",
    "chunks = semantic_chunking(results, document_name)"
   ]
  },
  {
   "cell_type": "code",
   "execution_count": 18,
   "metadata": {},
   "outputs": [],
   "source": [
    "## OPTIONAL\n",
    "\"\"\" ChUNKS EMBEDDINGS & INDEXING \"\"\"\n",
    "def indexing(document_chunks, index_name):\n",
    "    embeddings = AzureOpenAIEmbeddings(  \n",
    "        azure_deployment=\"text-embedding-ada-002\",  \n",
    "        openai_api_version=\"2023-12-01-preview\"  \n",
    "    )  \n",
    "    \n",
    "    index_name = index_name\n",
    "    \n",
    "    vector_store = AzureSearch(azure_search_endpoint=VECTOR_SEARCH_ENDPOINT,  \n",
    "                               azure_search_key=VECTOR_SEARCH_KEY,  \n",
    "                               index_name=index_name,  \n",
    "                               embedding_function=embeddings.embed_query  \n",
    "    )\n",
    "    \n",
    "    vector_store.add_documents(documents=document_chunks)\n",
    "    return vector_store"
   ]
  },
  {
   "cell_type": "code",
   "execution_count": 19,
   "metadata": {},
   "outputs": [],
   "source": [
    "## 4. LLM CALL\n",
    "## LLM Call\n",
    "def get_aoai_response(query, force_json=False, prompt_file=\"prompt.json\"):\n",
    "    endpoint = AZURE_OPENAI_ENDPOINT\n",
    "    deployment = DEPLOYMENT_NAME\n",
    "    api_key=AZURE_OPENAI_API_KEY\n",
    "    MAX_NUM_RETRIES = 3 \n",
    "    client = AzureOpenAI(\n",
    "        azure_endpoint=endpoint,\n",
    "        api_key=api_key,\n",
    "        api_version=\"2024-02-01\",\n",
    "    )\n",
    "    \n",
    "    with open(prompt_file, \"r\") as file:\n",
    "        prompt_template = file.read()\n",
    "    prompt = prompt_template.format(context=query)\n",
    "    # Implement retries \n",
    "    for i in range(MAX_NUM_RETRIES):\n",
    "        try:\n",
    "            if force_json:\n",
    "                completion = client.chat.completions.create(\n",
    "                        model=deployment,\n",
    "                        messages=[                                 \n",
    "                            {\n",
    "                                \"role\": \"user\",\n",
    "                                \"content\": prompt\n",
    "                            }\n",
    "                        ],\n",
    "                        temperature=0.0,\n",
    "                        response_format={\"type\": \"json_object\"}\n",
    "                        ) \n",
    "            else:\n",
    "                completion = client.chat.completions.create(\n",
    "                        model=deployment,\n",
    "                        messages=[                                    \n",
    "                            {\n",
    "                                \"role\": \"user\",\n",
    "                                \"content\": prompt\n",
    "                            }\n",
    "                        ],\n",
    "                        temperature=0.0\n",
    "                        )\n",
    "            break\n",
    "        except Exception as e:\n",
    "            print(f\"Error: {e}\")\n",
    "            print(f\"Retrying AOAI call {i}...\")\n",
    "            time.sleep(21)\n",
    "    return completion.choices[0].message.content"
   ]
  },
  {
   "cell_type": "markdown",
   "metadata": {},
   "source": [
    "#### HELPER FUNCTIONS"
   ]
  },
  {
   "cell_type": "code",
   "execution_count": 20,
   "metadata": {},
   "outputs": [],
   "source": [
    "## CLEAN LLM JSON RESPONSES\n",
    "def clean_llm_response(response, force_json=False):\n",
    "    if not force_json:\n",
    "        try:\n",
    "            ## Use regex to find the JSON part of the response\n",
    "            json_match = re.search(r'\\[\\s*{.*}\\s*\\]', response, re.DOTALL)\n",
    "            if json_match:\n",
    "                json_str = json_match.group(0)\n",
    "                return json_str.replace(\"```\", \"\").replace(\"json\",\"\")\n",
    "            else:\n",
    "                raise ValueError(\"No valid JSON found in the response.\")\n",
    "        except (SyntaxError, ValueError) as e:\n",
    "            print(f\"Error parsing response: {e} \\n Response: {response}\")\n",
    "            return []\n",
    "        \n",
    "    else:\n",
    "        return json.dumps(eval(response))#['results'])"
   ]
  },
  {
   "cell_type": "code",
   "execution_count": 21,
   "metadata": {},
   "outputs": [],
   "source": [
    "## GET LLM RESPONSE\n",
    "def get_llm_response(query, force_json=False, prompt_file=\"prompt.json\") -> str:\n",
    "    response = get_aoai_response(query, force_json, prompt_file)\n",
    "    cleaned_response = clean_llm_response(response, force_json)    \n",
    "    return cleaned_response"
   ]
  },
  {
   "cell_type": "code",
   "execution_count": 22,
   "metadata": {},
   "outputs": [],
   "source": [
    "## WRITE PREDICTIONS IN JSON\n",
    "def write_preds(DF, pred, file_name, force_json):\n",
    "    DF.reset_index(drop=True, inplace=True)\n",
    "    DF['predictions'] = clean_llm_response(pred, force_json)\n",
    "    DF.to_csv(os.path.join(\"\", file_name), sep='\\t', index=False)"
   ]
  },
  {
   "cell_type": "markdown",
   "metadata": {},
   "source": [
    "##### SAMPLE DOCUMENT ANALYSIS"
   ]
  },
  {
   "cell_type": "code",
   "execution_count": 25,
   "metadata": {},
   "outputs": [],
   "source": [
    "## SETTINGS\n",
    "eval_tsv = \"ground_truth.tsv\"\n",
    "folder_path = \"data\\documents\"\n",
    "prompt_file = \"prompt_grounding.txt\" \n",
    "experiment_name = document_name[:-4]\n",
    "force_json = False"
   ]
  },
  {
   "cell_type": "code",
   "execution_count": 26,
   "metadata": {},
   "outputs": [],
   "source": [
    "output_folder = os.path.join('data', experiment_name)\n",
    "\n",
    "if not os.path.exists(output_folder):\n",
    "    os.makedirs(output_folder)"
   ]
  },
  {
   "cell_type": "code",
   "execution_count": 27,
   "metadata": {},
   "outputs": [
    {
     "name": "stderr",
     "output_type": "stream",
     "text": [
      "  0%|          | 0/1 [00:00<?, ?it/s]"
     ]
    },
    {
     "name": "stdout",
     "output_type": "stream",
     "text": [
      "2020_Apr_George.pdf\n",
      "NUMBER OF RESULTED CHUNKS: 1\n"
     ]
    },
    {
     "name": "stderr",
     "output_type": "stream",
     "text": [
      "100%|██████████| 1/1 [00:12<00:00, 12.31s/it]\n",
      "100%|██████████| 1/1 [00:20<00:00, 20.27s/it]"
     ]
    },
    {
     "name": "stdout",
     "output_type": "stream",
     "text": [
      "\n",
      "[[{'effective_from': {'item': 'April 1, 2020', 'offsets': ['166', '236']},\n",
      "   'expire_date': {'item': '', 'offsets': ['', '']},\n",
      "   'jurisdiction': {'item': 'City of George', 'offsets': ['267', '285']},\n",
      "   'new_rate': {'item': '.002', 'offsets': ['426', '433']},\n",
      "   'parent_city': {'item': '', 'offsets': ['', '']},\n",
      "   'parent_county': {'item': '', 'offsets': ['', '']},\n",
      "   'parent_state': {'item': 'Washington', 'offsets': ['68', '78']},\n",
      "   'polity_type': {'item': 'City', 'offsets': ['267', '285']},\n",
      "   'target': {'item': 'Sales and use tax', 'offsets': ['342', '366']}},\n",
      "  {'effective_from': {'item': 'April 1, 2020', 'offsets': ['166', '236']},\n",
      "   'expire_date': {'item': '', 'offsets': ['', '']},\n",
      "   'jurisdiction': {'item': 'George TBD', 'offsets': ['1136', '1146']},\n",
      "   'new_rate': {'item': '.019', 'offsets': ['1156', '1160']},\n",
      "   'parent_city': {'item': 'George', 'offsets': ['267', '285']},\n",
      "   'parent_county': {'item': '', 'offsets': ['', '']},\n",
      "   'parent_state': {'item': 'Washington', 'offsets': ['68', '78']},\n",
      "   'polity_type': {'item': 'TBD', 'offsets': ['1136', '1146']},\n",
      "   'target': {'item': 'Local Sales Tax Rate', 'offsets': ['865', '885']}},\n",
      "  {'effective_from': {'item': 'April 1, 2020', 'offsets': ['166', '236']},\n",
      "   'expire_date': {'item': '', 'offsets': ['', '']},\n",
      "   'jurisdiction': {'item': 'George TBD', 'offsets': ['1136', '1146']},\n",
      "   'new_rate': {'item': '.065', 'offsets': ['1163', '1167']},\n",
      "   'parent_city': {'item': 'George', 'offsets': ['267', '285']},\n",
      "   'parent_county': {'item': '', 'offsets': ['', '']},\n",
      "   'parent_state': {'item': 'Washington', 'offsets': ['68', '78']},\n",
      "   'polity_type': {'item': 'TBD', 'offsets': ['1136', '1146']},\n",
      "   'target': {'item': 'State Sales Tax Rate', 'offsets': ['888', '908']}},\n",
      "  {'effective_from': {'item': 'April 1, 2020', 'offsets': ['166', '236']},\n",
      "   'expire_date': {'item': '', 'offsets': ['', '']},\n",
      "   'jurisdiction': {'item': 'George TBD', 'offsets': ['1136', '1146']},\n",
      "   'new_rate': {'item': '.084', 'offsets': ['1170', '1174']},\n",
      "   'parent_city': {'item': 'George', 'offsets': ['267', '285']},\n",
      "   'parent_county': {'item': '', 'offsets': ['', '']},\n",
      "   'parent_state': {'item': 'Washington', 'offsets': ['68', '78']},\n",
      "   'polity_type': {'item': 'TBD', 'offsets': ['1136', '1146']},\n",
      "   'target': {'item': 'Total Sales Tax Rate', 'offsets': ['911', '931']}}]]\n"
     ]
    },
    {
     "name": "stderr",
     "output_type": "stream",
     "text": [
      "\n"
     ]
    }
   ],
   "source": [
    "## LOAD GROUND TRUTH\n",
    "DF = pd.read_csv(eval_tsv, sep='\\t')\n",
    "\n",
    "DF = DF[DF['document_url'] == document_name]\n",
    "DF = DF.reset_index(drop=True)\n",
    "global_pred = []\n",
    "filenames = DF['document_url']\n",
    "for file in tqdm(filenames):\n",
    "    print(file)\n",
    "    document = os.path.join(folder_path, file)\n",
    "    file_name = os.path.basename(file).split('.')[0]\n",
    "    di_response = document_layout_analysis(document)\n",
    "    chunks = semantic_chunking(di_response, file_name) \n",
    "    tax_changes_chunks = []    \n",
    "    for chunk in tqdm(chunks):\n",
    "        content = chunk.page_content\n",
    "        tax_changes = get_llm_response(content, force_json, prompt_file)\n",
    "        tax_changes_chunks.extend(eval(tax_changes))\n",
    "        \n",
    "    global_pred.append(json.loads(json.dumps(tax_changes_chunks)))\n",
    "\n",
    "## DISPLAY EXTRACTED TAX RECORDS\n",
    "print()\n",
    "pprint(global_pred)"
   ]
  },
  {
   "cell_type": "code",
   "execution_count": 28,
   "metadata": {},
   "outputs": [],
   "source": [
    "## WRITE PREDICTIONS VS. GROUND TRUTH\n",
    "predictions_file_name = document_name + '.tsv'\n",
    "DF_copy = DF.copy()\n",
    "DF_copy.reset_index(drop=True, inplace=True)\n",
    "DF_copy['predictions'] = json.dumps(global_pred)\n",
    "json_schema_string = '[{\"jurisdiction\": \"\", \"target\": \"\", \"new_rate\": \"\", \"expire_date\": \"\", \"effective_from\": \"\", \"polity_type\": \"\", \"parent_city\": \"\", \"parent_county\": \"\", \"parent_state\": \"\"}]'\n",
    "DF_copy.replace(\"[]\", json_schema_string, inplace=True)\n",
    "DF_copy.to_csv(os.path.join(\"\", os.path.join(output_folder, predictions_file_name)), sep='\\t', index=False)"
   ]
  },
  {
   "cell_type": "code",
   "execution_count": 23,
   "metadata": {},
   "outputs": [
    {
     "name": "stdout",
     "output_type": "stream",
     "text": [
      "1\n",
      "Added entity jurisdiction: Precision=75.0, Recall=100.0, F1-Score=85.71\n",
      "Added entity effective_from: Precision=75.0, Recall=100.0, F1-Score=85.71\n",
      "Added entity effective_to: Precision=75.0, Recall=100.0, F1-Score=85.71\n",
      "Added entity new_rate: Precision=75.0, Recall=100.0, F1-Score=85.71\n",
      "Added entity target: Precision=75.0, Recall=100.0, F1-Score=85.71\n",
      "Added entity polity_type: Precision=0.0, Recall=0.0, F1-Score=nan\n",
      "Added entity parent_state: Precision=0.0, Recall=0.0, F1-Score=nan\n",
      "Added entity parent_county: Precision=0.0, Recall=0.0, F1-Score=nan\n",
      "Added entity parent_city: Precision=0.0, Recall=0.0, F1-Score=nan\n"
     ]
    },
    {
     "data": {
      "image/png": "[encoded data removed]",
      "text/plain": [
       "<Figure size 1000x600 with 1 Axes>"
      ]
     },
     "metadata": {},
     "output_type": "display_data"
    },
    {
     "name": "stdout",
     "output_type": "stream",
     "text": [
      "Entity jurisdiction: Precision=75.0, Recall=100.0, F1-Score=85.71\n",
      "Entity effective_from: Precision=100.0, Recall=100.0, F1-Score=100.0\n",
      "Entity effective_to: Precision=100.0, Recall=100.0, F1-Score=100.0\n",
      "Entity new_rate: Precision=75.0, Recall=100.0, F1-Score=85.71\n",
      "Entity target: Precision=75.0, Recall=100.0, F1-Score=85.71\n",
      "Entity polity_type: Precision=0.0, Recall=0.0, F1-Score=nan\n",
      "Entity parent_state: Precision=100.0, Recall=100.0, F1-Score=100.0\n",
      "Entity parent_county: Precision=100.0, Recall=100.0, F1-Score=100.0\n",
      "Entity parent_city: Precision=100.0, Recall=100.0, F1-Score=100.0\n"
     ]
    },
    {
     "data": {
      "image/png": "[encoded data removed]",
      "text/plain": [
       "<Figure size 1000x600 with 1 Axes>"
      ]
     },
     "metadata": {},
     "output_type": "display_data"
    }
   ],
   "source": [
    "model_predictions_path = os.path.join(output_folder, predictions_file_name)\n",
    "%run evaluation_study_grounding.py $model_predictions_path"
   ]
  },
  {
   "cell_type": "code",
   "execution_count": null,
   "metadata": {},
   "outputs": [],
   "source": []
  }
 ],
 "metadata": {
  "kernelspec": {
   "display_name": "Python 3",
   "language": "python",
   "name": "python3"
  },
  "language_info": {
   "codemirror_mode": {
    "name": "ipython",
    "version": 3
   },
   "file_extension": ".py",
   "mimetype": "text/x-python",
   "name": "python",
   "nbconvert_exporter": "python",
   "pygments_lexer": "ipython3",
   "version": "3.11.7"
  }
 },
 "nbformat": 4,
 "nbformat_minor": 2
}
